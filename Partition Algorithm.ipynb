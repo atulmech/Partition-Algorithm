{
 "cells": [
  {
   "cell_type": "markdown",
   "id": "5a3d7abf",
   "metadata": {},
   "source": [
    "# Partition Algorithm"
   ]
  },
  {
   "cell_type": "code",
   "execution_count": 5,
   "id": "ea0c0177",
   "metadata": {},
   "outputs": [],
   "source": [
    "def Partition(arr,p,q):# arr is input array, p first index of array and q is last index of array\n",
    "    \"\"\"this function will return the index of pivot element which will use as input for Quick sort\"\"\"\n",
    "    x=arr[p] # pivot element\n",
    "    i=p\n",
    "    for j in range(p+1,q+1):\n",
    "        if arr[j]<=arr[p]:\n",
    "            i+=1\n",
    "            arr[i],arr[j]=arr[j],arr[i]\n",
    "    arr[p],arr[i]=arr[i],arr[p]\n",
    "    return i "
   ]
  },
  {
   "cell_type": "code",
   "execution_count": 6,
   "id": "97b8e1c5",
   "metadata": {},
   "outputs": [
    {
     "data": {
      "text/plain": [
       "4"
      ]
     },
     "execution_count": 6,
     "metadata": {},
     "output_type": "execute_result"
    }
   ],
   "source": [
    "arr=[50,70,80,30,40,88,19,27,69] # here pivot element is 50 \n",
    "p=0\n",
    "q=len(arr)-1\n",
    "Partition(arr,p,q)# in output we are getting the index of pivot element which is 50 in this case as 4 after partition"
   ]
  },
  {
   "cell_type": "code",
   "execution_count": 8,
   "id": "a5d34e80",
   "metadata": {},
   "outputs": [
    {
     "data": {
      "text/plain": [
       "3"
      ]
     },
     "execution_count": 8,
     "metadata": {},
     "output_type": "execute_result"
    }
   ],
   "source": [
    "arr=[50,50,5,10,90,60,70]\n",
    "Partition(arr,0,len(arr)-1) "
   ]
  },
  {
   "cell_type": "code",
   "execution_count": null,
   "id": "cdb74988",
   "metadata": {},
   "outputs": [],
   "source": []
  }
 ],
 "metadata": {
  "kernelspec": {
   "display_name": "Python 3",
   "language": "python",
   "name": "python3"
  },
  "language_info": {
   "codemirror_mode": {
    "name": "ipython",
    "version": 3
   },
   "file_extension": ".py",
   "mimetype": "text/x-python",
   "name": "python",
   "nbconvert_exporter": "python",
   "pygments_lexer": "ipython3",
   "version": "3.8.8"
  }
 },
 "nbformat": 4,
 "nbformat_minor": 5
}
